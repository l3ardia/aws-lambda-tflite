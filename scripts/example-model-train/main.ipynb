{
 "cells": [
  {
   "cell_type": "markdown",
   "id": "380c2e29",
   "metadata": {},
   "source": [
    "# Installation\n",
    "\n",
    "Tun this script in a ubuntu system "
   ]
  },
  {
   "cell_type": "code",
   "execution_count": null,
   "id": "08bb2ab4",
   "metadata": {},
   "outputs": [],
   "source": [
    "# Install Python 3.9\n",
    "!sudo apt-get update -y\n",
    "!sudo apt-get install python3.9 python3.9-dev python3.9-distutils -y\n",
    "!sudo apt-get install python3.9-venv -y\n",
    "\n",
    "# Install pip for Python 3.9\n",
    "!wget https://bootstrap.pypa.io/get-pip.py\n",
    "!python3.9 get-pip.py"
   ]
  },
  {
   "cell_type": "code",
   "execution_count": null,
   "id": "f9b24a4f",
   "metadata": {},
   "outputs": [
    {
     "name": "stdout",
     "output_type": "stream",
     "text": [
      "Traceback (most recent call last):\n",
      "  File \"<string>\", line 1, in <module>\n",
      "ModuleNotFoundError: No module named 'tensorflow'\n"
     ]
    }
   ],
   "source": [
    "!source /tmp/tf_venv/bin/activate && python --version\n",
    "!pip --version\n",
    "\n",
    "import os\n",
    "os.environ['PROTOCOL_BUFFERS_PYTHON_IMPLEMENTATION'] = 'python'"
   ]
  },
  {
   "cell_type": "code",
   "execution_count": null,
   "id": "a29e0ffd",
   "metadata": {},
   "outputs": [],
   "source": [
    "%pip install protobuf==3.20.3\n",
    "%pip install numpy==1.23.5\n",
    "%pip install tensorflow==2.7"
   ]
  },
  {
   "cell_type": "code",
   "execution_count": null,
   "id": "9971c277",
   "metadata": {},
   "outputs": [],
   "source": [
    "# Verify the installation\n",
    "!source /tmp/tf_venv/bin/activate && python -c \"import tensorflow as tf; print(tf.__version__)\""
   ]
  },
  {
   "cell_type": "markdown",
   "id": "e3a444c2",
   "metadata": {},
   "source": [
    "# Example of training a model"
   ]
  },
  {
   "cell_type": "code",
   "execution_count": null,
   "id": "c6fa7db1",
   "metadata": {},
   "outputs": [],
   "source": [
    "# Step 1: Imports\n",
    "import tensorflow as tf\n",
    "from tensorflow.keras.applications import MobileNetV2\n",
    "from tensorflow.keras.models import Model\n",
    "from tensorflow.keras.layers import Dense, GlobalAveragePooling2D, Input\n",
    "from tensorflow.keras.optimizers import Adam\n",
    "from tensorflow.keras.datasets import cifar10\n",
    "from tensorflow.keras.utils import to_categorical\n",
    "import os"
   ]
  },
  {
   "cell_type": "code",
   "execution_count": null,
   "id": "13fc244a",
   "metadata": {},
   "outputs": [],
   "source": [
    "# Step 2: Load and preprocess CIFAR-10 data\n",
    "(x_train, y_train), (x_test, y_test) = cifar10.load_data()\n",
    "\n",
    "# Resize to match MobileNetV2 input\n",
    "x_train = tf.image.resize(x_train, (96, 96)) / 255.0\n",
    "x_test = tf.image.resize(x_test, (96, 96)) / 255.0\n",
    "\n",
    "y_train = to_categorical(y_train, 10)\n",
    "y_test = to_categorical(y_test, 10)"
   ]
  },
  {
   "cell_type": "code",
   "execution_count": null,
   "id": "ad61e5b9",
   "metadata": {},
   "outputs": [],
   "source": [
    "# Step 3: Load MobileNetV2 and add custom head\n",
    "base_model = MobileNetV2(weights='imagenet', include_top=False, input_tensor=Input(shape=(96, 96, 3)))\n",
    "base_model.trainable = False  # Freeze base\n",
    "\n",
    "x = GlobalAveragePooling2D()(base_model.output)\n",
    "output = Dense(10, activation='softmax')(x)\n",
    "\n",
    "model = Model(inputs=base_model.input, outputs=output)\n"
   ]
  },
  {
   "cell_type": "code",
   "execution_count": null,
   "id": "f68411bc",
   "metadata": {},
   "outputs": [],
   "source": [
    "# Step 4: Compile and train\n",
    "model.compile(optimizer=Adam(learning_rate=0.001), loss='categorical_crossentropy', metrics=['accuracy'])\n",
    "\n",
    "# For a quick run, train on just a few epochs\n",
    "model.fit(x_train, y_train, epochs=3, batch_size=64, validation_data=(x_test, y_test))\n"
   ]
  },
  {
   "cell_type": "code",
   "execution_count": null,
   "id": "4aa0733c",
   "metadata": {},
   "outputs": [],
   "source": [
    "# Step 5: Export the trained model\n",
    "export_path = \"model.keras\"\n",
    "model.save(export_path)\n",
    "print(f\"Model saved to: {os.path.abspath(export_path)}\")\n"
   ]
  }
 ],
 "metadata": {
  "kernelspec": {
   "display_name": "3.9.21",
   "language": "python",
   "name": "python3"
  },
  "language_info": {
   "codemirror_mode": {
    "name": "ipython",
    "version": 3
   },
   "file_extension": ".py",
   "mimetype": "text/x-python",
   "name": "python",
   "nbconvert_exporter": "python",
   "pygments_lexer": "ipython3",
   "version": "3.9.21"
  }
 },
 "nbformat": 4,
 "nbformat_minor": 5
}
